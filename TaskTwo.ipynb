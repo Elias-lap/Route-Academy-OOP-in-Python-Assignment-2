{
 "cells": [
  {
   "cell_type": "code",
   "execution_count": null,
   "id": "8d7c7870",
   "metadata": {},
   "outputs": [
    {
     "name": "stdout",
     "output_type": "stream",
     "text": [
      "125\n"
     ]
    }
   ],
   "source": [
    "def pow(base, exponent):\n",
    "    result = 1\n",
    "    for i in range(exponent):\n",
    "        result *= base\n",
    "    return result\n",
    "\n",
    "print(pow(5 , 3))"
   ]
  },
  {
   "cell_type": "code",
   "execution_count": 7,
   "id": "4a88fa0c",
   "metadata": {},
   "outputs": [
    {
     "name": "stdout",
     "output_type": "stream",
     "text": [
      "Area of the rectangle is 6.0\n",
      "None\n"
     ]
    }
   ],
   "source": [
    "def area():\n",
    "    shape = input(\"Enter shape (circle/rectangle/triangle): \")\n",
    "    if shape == \"circle\":\n",
    "        radius = float(input(\"Enter radius: \"))\n",
    "        result = 3.14 * radius * radius\n",
    "        print(f\"Area of the circle is {result}\")\n",
    "    elif shape == \"rectangle\":\n",
    "        length = float(input(\"Enter length: \"))\n",
    "        width = float(input(\"Enter width: \"))\n",
    "        result = length * width\n",
    "        print(f\"Area of the rectangle is {result}\")\n",
    "    elif shape == \"triangle\":\n",
    "        base = float(input(\"Enter the base: \"))\n",
    "        height = float(input(\"Enter the height: \"))\n",
    "        result = 0.5 * base * height\n",
    "        print(f\"Area of the triangle is {result}\")\n",
    "    else:\n",
    "        return \"Invalid shape\"\n",
    "\n",
    "print(area())\n"
   ]
  },
  {
   "cell_type": "code",
   "execution_count": 13,
   "id": "1da102ce",
   "metadata": {},
   "outputs": [
    {
     "name": "stdout",
     "output_type": "stream",
     "text": [
      "15\n"
     ]
    }
   ],
   "source": [
    "my_list = [4, 7, 1, 3]\n",
    "total = sum(my_list)\n",
    "print(total)"
   ]
  },
  {
   "cell_type": "code",
   "execution_count": 16,
   "id": "f504008a",
   "metadata": {},
   "outputs": [
    {
     "name": "stdout",
     "output_type": "stream",
     "text": [
      "(4, 1, 8, 9, 2, 5)\n",
      "Maximum: 9\n",
      "Minimum: 1\n"
     ]
    }
   ],
   "source": [
    "tuple1 = (4, 1, 8)\n",
    "tuple2 = (9, 2, 5)\n",
    "result = tuple1 + tuple2\n",
    "print(result)\n",
    "print(\"Maximum:\", max(result))\n",
    "print(\"Minimum:\", min(result))\n",
    "\n"
   ]
  },
  {
   "cell_type": "code",
   "execution_count": 24,
   "id": "703be597",
   "metadata": {},
   "outputs": [
    {
     "name": "stdout",
     "output_type": "stream",
     "text": [
      "hello is not a number\n",
      "Number of numbers: 6\n"
     ]
    }
   ],
   "source": [
    "def count_numbers(t):\n",
    "    if len(t) > 5:\n",
    "        count = 0\n",
    "        for item in t:\n",
    "            if isinstance(item, (int, float)):\n",
    "                count += 1\n",
    "            else:\n",
    "                print(f\"{item} is not a number\")\n",
    "        return count\n",
    "    else:\n",
    "        print(\"Tuple has less than or equal to 5 items.\")\n",
    "        return 0\n",
    "    \n",
    "\n",
    "tuple1 = (4, 1, 8, \"hello\", 9, 2, 5)\n",
    "count = count_numbers(tuple1)\n",
    "print(\"Number of numbers:\", count)\n"
   ]
  },
  {
   "cell_type": "code",
   "execution_count": 33,
   "id": "5bb01771",
   "metadata": {},
   "outputs": [
    {
     "name": "stdout",
     "output_type": "stream",
     "text": [
      "index 1 is 2\n"
     ]
    }
   ],
   "source": [
    "my_list = [4, 7, 1, 3]\n",
    "def find_index( element):\n",
    "    for i, item in enumerate(my_list):\n",
    "        if item == element :\n",
    "            print(f\"index {element} is {i}\")\n",
    "\n",
    "find_index(1)"
   ]
  },
  {
   "cell_type": "code",
   "execution_count": 42,
   "id": "6fb6c454",
   "metadata": {},
   "outputs": [
    {
     "data": {
      "text/plain": [
       "False"
      ]
     },
     "execution_count": 42,
     "metadata": {},
     "output_type": "execute_result"
    }
   ],
   "source": [
    "def is_prime(n):\n",
    "    if n <= 1:\n",
    "        return False\n",
    "    for i in range(2, n):\n",
    "        if n % i == 0:\n",
    "            return False\n",
    "    return True\n",
    "is_prime(10)"
   ]
  },
  {
   "cell_type": "code",
   "execution_count": 43,
   "id": "3c1e5f8a",
   "metadata": {},
   "outputs": [
    {
     "name": "stdout",
     "output_type": "stream",
     "text": [
      "{'Burger': 10, 'Pizza': 15}\n",
      "[1, 2]\n",
      "[{'table': 1, 'items': ['Burger', 'Pizza']}, {'table': 2, 'items': ['Burger', 'Pizza']}]\n"
     ]
    }
   ],
   "source": [
    "class Restaurant:\n",
    "    def __init__(self):\n",
    "        self.menu_items = {}       # dictionary: item -> price\n",
    "        self.tables_booked = []    # list of booked table numbers\n",
    "        self.customer_orders = []\n",
    "\n",
    "    def add_item_to_menu(self, item, price):\n",
    "        self.menu_items[item] = price\n",
    "\n",
    "    def book_tables(self, table_number):\n",
    "        self.tables_booked.append(table_number)\n",
    "\n",
    "\n",
    "    def order_customer(self, table_number, order_items):\n",
    "        order = {\n",
    "              \"table\": table_number,\n",
    "              \"items\": order_items\n",
    "         }\n",
    "        self.customer_orders.append(order)\n",
    "    \n",
    "    def print_menu(self):\n",
    "        print(self.menu_items)\n",
    "\n",
    "    def print_tables_booked(self):\n",
    "        print(self.tables_booked )\n",
    "\n",
    "    def print_customer_orders(self):\n",
    "        print(self.customer_orders)\n",
    "\n",
    "r =Restaurant()\n",
    "r.add_item_to_menu(\"Burger\", 10)\n",
    "r.add_item_to_menu(\"Pizza\", 15)\n",
    "r.book_tables(1)\n",
    "r.book_tables(2)\n",
    "r.order_customer(1, [\"Burger\", \"Pizza\"])\n",
    "r.order_customer(2, [\"Burger\", \"Pizza\"])\n",
    "r.print_menu()\n",
    "r.print_tables_booked()\n",
    "r.print_customer_orders(\n",
    "    \n",
    ")\n"
   ]
  },
  {
   "cell_type": "code",
   "execution_count": null,
   "id": "c7e30aee",
   "metadata": {},
   "outputs": [
    {
     "name": "stdout",
     "output_type": "stream",
     "text": [
      "Total value of bikes in store: 3000 units.\n",
      "Elias successfully rented 2 bike(s).\n",
      "2 bike(s) returned.\n",
      "Total cost: 240 units.\n",
      "Total value of bikes in store: 1000 units.\n"
     ]
    },
    {
     "data": {
      "text/plain": [
       "1000"
      ]
     },
     "execution_count": 1,
     "metadata": {},
     "output_type": "execute_result"
    }
   ],
   "source": [
    "class Bike:\n",
    "    def __init__(self, name, price):\n",
    "        self._name = name\n",
    "        self._price = price\n",
    "\n",
    "    def get_name(self):\n",
    "        return self._name\n",
    "\n",
    "    def set_name(self, name):\n",
    "        self._name = name\n",
    "\n",
    "    def get_price(self):\n",
    "        return self._price\n",
    "\n",
    "    def set_price(self, price):\n",
    "        self._price = price\n",
    "       \n",
    "    \n",
    "\n",
    "class Customer:\n",
    "    def __init__(self, name, age):\n",
    "        self._name = name\n",
    "        self._age = age\n",
    "\n",
    "    def get_name(self):\n",
    "        return self._name\n",
    "\n",
    "    def set_name(self, name):\n",
    "        self._name = name\n",
    "\n",
    "    def get_age(self):\n",
    "        return self._age\n",
    "\n",
    "    def set_age(self, age):\n",
    "        self._age = age\n",
    "\n",
    "\n",
    "\n",
    "class MainBikeRental:\n",
    "    def __init__(self):\n",
    "        self._list_of_bikes = []\n",
    "        self._list_of_rentals = []\n",
    "\n",
    "    def get_list_of_bikes(self):\n",
    "        return self._list_of_bikes\n",
    "\n",
    "    def set_list_of_bikes(self, bikes):\n",
    "        self._list_of_bikes = bikes\n",
    "\n",
    "    def get_list_of_rentals(self):\n",
    "        return self._list_of_rentals\n",
    "\n",
    "    def set_list_of_rentals(self, rentals):\n",
    "        self._list_of_rentals = rentals\n",
    "\n",
    "    def add_bike(self, bike):\n",
    "        self._list_of_bikes.append(bike)\n",
    "\n",
    "    def add_rental(self, rental):\n",
    "        self._list_of_rentals.append(rental)\n",
    "\n",
    "    def request_bike(self, customer, num_bikes):\n",
    "        if customer.get_age() <= 6:\n",
    "            print(\"Customer must be older than 6.\")\n",
    "            return\n",
    "\n",
    "        if num_bikes > len(self._list_of_bikes):\n",
    "            print(\"Not enough bikes available. Please wait 10 minutes.\")\n",
    "            return\n",
    "\n",
    "        rented_bikes = [self._list_of_bikes.pop() for _ in range(num_bikes)]\n",
    "\n",
    "        rental_record = {\n",
    "            \"customer\": customer,\n",
    "            \"bikes\": rented_bikes,\n",
    "            \"status\": \"rented\"\n",
    "        }\n",
    "\n",
    "        self.add_rental(rental_record)\n",
    "        print(f\"{customer.get_name()} successfully rented {num_bikes} bike(s).\")\n",
    "\n",
    "    def return_bike(self, rental_time, num_of_bikes):\n",
    "        total_cost = rental_time * 40 * num_of_bikes\n",
    "\n",
    "        for _ in range(num_of_bikes):\n",
    "            self._list_of_bikes.append(Bike(\"Returned\", 0))  # Simulated return\n",
    "\n",
    "        print(f\"{num_of_bikes} bike(s) returned.\")\n",
    "        print(f\"Total cost: {total_cost} units.\")\n",
    "        return total_cost\n",
    "\n",
    "    def total_cost(self):\n",
    "        total = sum(bike.get_price() for bike in self._list_of_bikes)\n",
    "        print(f\"Total value of bikes in store: {total} units.\")\n",
    "        return total\n",
    "\n",
    "\n",
    " # Create a shop\n",
    "shop = MainBikeRental()\n",
    "\n",
    "# Add some bikes to the shop\n",
    "bike1 = Bike(\"Mountain\", 1000)\n",
    "bike2 = Bike(\"Road\", 1200)\n",
    "bike3 = Bike(\"City\", 800)\n",
    "shop.add_bike(bike1)\n",
    "shop.add_bike(bike2)\n",
    "shop.add_bike(bike3)\n",
    "\n",
    "# Show total bike value\n",
    "shop.total_cost()  \n",
    "\n",
    "# Create a customer\n",
    "customer = Customer(\"Elias\", 20)\n",
    "\n",
    "# Rent 2 bikes\n",
    "shop.request_bike(customer, 2)\n",
    "\n",
    "# Return the bikes after 3 hours\n",
    "shop.return_bike(rental_time=3, num_of_bikes=2)\n",
    "\n",
    "# Show remaining bikes and total value\n",
    "shop.total_cost()\n"
   ]
  }
 ],
 "metadata": {
  "kernelspec": {
   "display_name": "base",
   "language": "python",
   "name": "python3"
  },
  "language_info": {
   "codemirror_mode": {
    "name": "ipython",
    "version": 3
   },
   "file_extension": ".py",
   "mimetype": "text/x-python",
   "name": "python",
   "nbconvert_exporter": "python",
   "pygments_lexer": "ipython3",
   "version": "3.13.5"
  }
 },
 "nbformat": 4,
 "nbformat_minor": 5
}
